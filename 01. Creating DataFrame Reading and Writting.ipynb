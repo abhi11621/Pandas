{
 "cells": [
  {
   "cell_type": "markdown",
   "metadata": {},
   "source": [
    "# Pandas, is a most popluar python library that use for data manipulation and analysis.\n",
    "\n",
    "<dd>1) Creating DataFrame</dd>\n",
    "<dd>2) Reading and writting data between in-memory.</dd>\n"
   ]
  },
  {
   "cell_type": "markdown",
   "metadata": {},
   "source": [
    "# 1) Creating DataFrame"
   ]
  },
  {
   "cell_type": "code",
   "execution_count": null,
   "metadata": {},
   "outputs": [],
   "source": [
    "# Create Dataframe "
   ]
  },
  {
   "cell_type": "code",
   "execution_count": null,
   "metadata": {},
   "outputs": [],
   "source": [
    "# using dictionary\n",
    "import pandas as pd\n",
    "nyse_data = {\n",
    "    'stock_symbol':['AEA','ASP','AIT'],\n",
    "    'stock_price_open':[4.42,12.13,21.81],\n",
    "    'stock_price_close':[4.24,11.89,21.31],\n",
    "}\n",
    "\n",
    "df = pd.DataFrame(nyse_data)\n",
    "df"
   ]
  },
  {
   "cell_type": "code",
   "execution_count": null,
   "metadata": {},
   "outputs": [],
   "source": [
    "# using tuple list\n",
    "import pandas as pd\n",
    "nyse_data = [\n",
    "    ('AEA','ASP','AIT'),\n",
    "    (4.42,12.13,21.81),\n",
    "    (4.24,11.89,21.31)\n",
    "     ]\n",
    "df = pd.DataFrame(nyse_data)\n",
    "df"
   ]
  },
  {
   "cell_type": "code",
   "execution_count": null,
   "metadata": {},
   "outputs": [],
   "source": [
    "# using tuple list, define header\n",
    "import pandas as pd\n",
    "nyse_data = [\n",
    "    ('AEA','ASP','AIT'),\n",
    "    (4.42,12.13,21.81),\n",
    "    (4.24,11.89,21.31)\n",
    "     ]\n",
    "df = pd.DataFrame(nyse_data, columns=['stock_symbol','stock_price_open','stock_price_close'])\n",
    "df"
   ]
  },
  {
   "cell_type": "code",
   "execution_count": null,
   "metadata": {},
   "outputs": [],
   "source": [
    "# using list of disctionary\n",
    "nyse_data =[\n",
    "    {'stock_symbol':'AEA','stock_price_open':4.42,'stock_price_close':4.24},\n",
    "    {'stock_symbol':'ASP','stock_price_open':12.13,'stock_price_close':11.89},\n",
    "    {'stock_symbol':'AIT','stock_price_open':21.81,'stock_price_close':21.31}\n",
    "]\n",
    "\n",
    "df = pd.DataFrame(nyse_data)\n",
    "df"
   ]
  },
  {
   "cell_type": "markdown",
   "metadata": {},
   "source": [
    "# 2) Reading and writting data between in-memory."
   ]
  },
  {
   "cell_type": "code",
   "execution_count": null,
   "metadata": {},
   "outputs": [],
   "source": [
    "df = pd.read_csv('NYSE_daily_prices_A.csv')\n",
    "df.head()"
   ]
  },
  {
   "cell_type": "code",
   "execution_count": null,
   "metadata": {},
   "outputs": [],
   "source": [
    "# skip row while reading csv\n",
    "df = pd.read_csv('NYSE_daily_prices_A.csv', skiprows=1)\n",
    "df.head()"
   ]
  },
  {
   "cell_type": "code",
   "execution_count": null,
   "metadata": {},
   "outputs": [],
   "source": [
    "# set header (here skiprows and header are kind of same function)\n",
    "df = pd.read_csv('NYSE_daily_prices_A.csv', header=0)\n",
    "df.head()"
   ]
  },
  {
   "cell_type": "code",
   "execution_count": null,
   "metadata": {},
   "outputs": [],
   "source": [
    "# reset header with different name\n",
    "df = pd.read_csv('NYSE_daily_prices_A.csv', header=None, skiprows=1, names=['exchange1','stock_symbol1','date','stock_price_open','stock_price_high','stock_price_low','stock_price_close','stock_volume','stock_price_adj_close'])\n",
    "df.head()"
   ]
  },
  {
   "cell_type": "code",
   "execution_count": null,
   "metadata": {},
   "outputs": [],
   "source": [
    "# read no of rows\n",
    "df = pd.read_csv('NYSE_daily_prices_A.csv', nrows=2)\n",
    "df.head()"
   ]
  },
  {
   "cell_type": "code",
   "execution_count": null,
   "metadata": {},
   "outputs": [],
   "source": [
    "# read no of rows\n",
    "df = pd.read_csv('NYSE_daily_prices_A.csv', nrows=2)\n",
    "df.head()"
   ]
  },
  {
   "cell_type": "code",
   "execution_count": null,
   "metadata": {},
   "outputs": [],
   "source": [
    "# write to csv\n",
    "df = pd.read_csv('NYSE_daily_prices_A.csv') # here, you can set parameter like, header=False, index=False\n",
    "df.to_csv('NYSE_daily_prices_A_write.csv')"
   ]
  }
 ],
 "metadata": {
  "kernelspec": {
   "display_name": "env-tensorflow",
   "language": "python",
   "name": "env-tensorflow"
  },
  "language_info": {
   "codemirror_mode": {
    "name": "ipython",
    "version": 3
   },
   "file_extension": ".py",
   "mimetype": "text/x-python",
   "name": "python",
   "nbconvert_exporter": "python",
   "pygments_lexer": "ipython3",
   "version": "3.6.4"
  }
 },
 "nbformat": 4,
 "nbformat_minor": 2
}
