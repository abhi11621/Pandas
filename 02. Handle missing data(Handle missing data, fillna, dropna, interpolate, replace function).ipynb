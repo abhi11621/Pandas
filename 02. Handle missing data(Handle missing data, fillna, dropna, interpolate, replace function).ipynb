{
 "cells": [
  {
   "cell_type": "markdown",
   "metadata": {},
   "source": [
    "# Handle missing data(Handle missing data, fillna, dropna, interpolate, replace function)"
   ]
  },
  {
   "cell_type": "code",
   "execution_count": null,
   "metadata": {},
   "outputs": [],
   "source": [
    "# Handing missing value"
   ]
  },
  {
   "cell_type": "code",
   "execution_count": null,
   "metadata": {},
   "outputs": [],
   "source": [
    "from IPython.core.interactiveshell import InteractiveShell\n",
    "InteractiveShell.ast_node_interactivity = \"all\"\n",
    "\n",
    "import pandas as pd\n",
    "df = pd.read_csv('NYSE_daily_prices_A_null.csv')\n",
    "df.head(15)"
   ]
  },
  {
   "cell_type": "code",
   "execution_count": null,
   "metadata": {},
   "outputs": [],
   "source": [
    "# check datatype for each column\n",
    "df.dtypes"
   ]
  },
  {
   "cell_type": "code",
   "execution_count": null,
   "metadata": {},
   "outputs": [],
   "source": [
    "type(df['date'][1]) # here pandas considering date column as string type"
   ]
  },
  {
   "cell_type": "code",
   "execution_count": null,
   "metadata": {},
   "outputs": [],
   "source": [
    "# we will convert date column to pandas._libs.tslib.Timestamp\n",
    "import pandas as pd\n",
    "df = pd.read_csv('NYSE_daily_prices_A_null.csv', parse_dates=['date'])\n",
    "type(df['date'][1])"
   ]
  },
  {
   "cell_type": "code",
   "execution_count": null,
   "metadata": {},
   "outputs": [],
   "source": [
    "df.head(15)"
   ]
  },
  {
   "cell_type": "code",
   "execution_count": null,
   "metadata": {},
   "outputs": [],
   "source": [
    "# set index\n",
    "df1 = df.set_index('stock_symbol',inplace=False)  # inplace=True means it modify dataframe \n",
    "df1.head()"
   ]
  },
  {
   "cell_type": "code",
   "execution_count": null,
   "metadata": {},
   "outputs": [],
   "source": [
    "# fillna with specific value in entire dataset\n",
    "df.fillna(1)  # all na value is replace by 1"
   ]
  },
  {
   "cell_type": "code",
   "execution_count": null,
   "metadata": {},
   "outputs": [],
   "source": [
    "# fillna with specific value by column\n",
    "df.fillna({\n",
    "    'stock_symbol':'Not Avaolable',\n",
    "    'date':'2010-01-01',\n",
    "    'stock_price_low':0\n",
    "})\n",
    "df"
   ]
  },
  {
   "cell_type": "code",
   "execution_count": null,
   "metadata": {},
   "outputs": [],
   "source": [
    "# Use pre defined method to fill na value\n",
    "df2 = df.fillna(method='ffill') # this will carry forword previos value to next cell empty cell\n",
    "df2.head(10)\n",
    "\n",
    "df3 = df.fillna(method='bfill') # this will copy next cell value to previos empty cell\n",
    "df3.head(10)"
   ]
  },
  {
   "cell_type": "code",
   "execution_count": null,
   "metadata": {},
   "outputs": [],
   "source": [
    "df.head(10)\n",
    "df30 = df.fillna({\n",
    "    'stock_symbol':'Not Avaolable',\n",
    "    'date':df['date'].ffill(),\n",
    "    'stock_price_low':0\n",
    "}) # here axis column mean it copy next row value to previous row cell horizontally\n",
    "df30.head(10)\n"
   ]
  },
  {
   "cell_type": "code",
   "execution_count": null,
   "metadata": {},
   "outputs": [],
   "source": [
    "df3 = df.fillna(method='bfill', axis='index') # here axis column mean it copy next row value to previous row cell horizontally\n",
    "df3"
   ]
  },
  {
   "cell_type": "code",
   "execution_count": null,
   "metadata": {},
   "outputs": [],
   "source": [
    "df = pd.read_csv('NYSE_daily_prices_A_null.csv', parse_dates=['date'])\n",
    "df.head()\n",
    "# interplote is very powerfull function to fill na value in dataframe or series(here it work for whose columns data is numeric)\n",
    "df4 = df.interpolate()\n",
    "df4.head()"
   ]
  },
  {
   "cell_type": "code",
   "execution_count": null,
   "metadata": {},
   "outputs": [],
   "source": [
    "# dropna will drop all row if any column value is not available\n",
    "df5 = df.dropna()\n",
    "df5.head(10)"
   ]
  },
  {
   "cell_type": "code",
   "execution_count": null,
   "metadata": {},
   "outputs": [],
   "source": [
    "# if you wnat drop only those row whose all value are zero\n",
    "df6 = df.dropna(how='all')\n",
    "df6.head(15)"
   ]
  },
  {
   "cell_type": "code",
   "execution_count": null,
   "metadata": {},
   "outputs": [],
   "source": [
    "# Here, thresh 8 mean if atleast 8 column value is available it will not delete that row\n",
    "df7 = df.dropna(thresh=8)\n",
    "df7.head(15)"
   ]
  },
  {
   "cell_type": "code",
   "execution_count": null,
   "metadata": {},
   "outputs": [],
   "source": [
    "# replace function\n",
    "df = pd.read_csv('NYSE_daily_prices_A_null.csv', parse_dates=['date'])\n",
    "df8 = df.replace('AEA','AEA1')  # here insteed of supply single value you can pass list ['AEA','ASP']\n",
    "df8.head(10)"
   ]
  },
  {
   "cell_type": "code",
   "execution_count": null,
   "metadata": {},
   "outputs": [],
   "source": [
    "df9 = df.replace({\n",
    "    'date':[None]\n",
    "}, 'Not Available')\n",
    "df9.head(10)"
   ]
  },
  {
   "cell_type": "code",
   "execution_count": null,
   "metadata": {},
   "outputs": [],
   "source": [
    "df10 = df.replace({\n",
    "    'stock_symbol':['AEA','ASP','ATV']\n",
    "}, {\n",
    "    'stock_symbol':[1,2,3]\n",
    "})\n",
    "df10.head(10)"
   ]
  },
  {
   "cell_type": "code",
   "execution_count": null,
   "metadata": {},
   "outputs": [],
   "source": []
  }
 ],
 "metadata": {
  "kernelspec": {
   "display_name": "env-tensorflow",
   "language": "python",
   "name": "env-tensorflow"
  },
  "language_info": {
   "codemirror_mode": {
    "name": "ipython",
    "version": 3
   },
   "file_extension": ".py",
   "mimetype": "text/x-python",
   "name": "python",
   "nbconvert_exporter": "python",
   "pygments_lexer": "ipython3",
   "version": "3.6.4"
  }
 },
 "nbformat": 4,
 "nbformat_minor": 2
}
