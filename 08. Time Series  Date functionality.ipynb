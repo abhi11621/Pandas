{
 "cells": [
  {
   "cell_type": "markdown",
   "metadata": {},
   "source": [
    "# In this notebook we will see Time Series with help of pandas library."
   ]
  },
  {
   "cell_type": "code",
   "execution_count": 1,
   "metadata": {},
   "outputs": [
    {
     "data": {
      "text/html": [
       "<div>\n",
       "<style scoped>\n",
       "    .dataframe tbody tr th:only-of-type {\n",
       "        vertical-align: middle;\n",
       "    }\n",
       "\n",
       "    .dataframe tbody tr th {\n",
       "        vertical-align: top;\n",
       "    }\n",
       "\n",
       "    .dataframe thead th {\n",
       "        text-align: right;\n",
       "    }\n",
       "</style>\n",
       "<table border=\"1\" class=\"dataframe\">\n",
       "  <thead>\n",
       "    <tr style=\"text-align: right;\">\n",
       "      <th></th>\n",
       "      <th>exchange</th>\n",
       "      <th>stock_symbol</th>\n",
       "      <th>date</th>\n",
       "      <th>stock_price_open</th>\n",
       "      <th>stock_price_high</th>\n",
       "      <th>stock_price_low</th>\n",
       "      <th>stock_price_close</th>\n",
       "      <th>stock_volume</th>\n",
       "      <th>stock_price_adj_close</th>\n",
       "    </tr>\n",
       "  </thead>\n",
       "  <tbody>\n",
       "    <tr>\n",
       "      <th>0</th>\n",
       "      <td>NYSE</td>\n",
       "      <td>AEA</td>\n",
       "      <td>2010-02-08</td>\n",
       "      <td>4.42</td>\n",
       "      <td>4.42</td>\n",
       "      <td>4.21</td>\n",
       "      <td>4.24</td>\n",
       "      <td>205500</td>\n",
       "      <td>4.24</td>\n",
       "    </tr>\n",
       "    <tr>\n",
       "      <th>1</th>\n",
       "      <td>NYSE</td>\n",
       "      <td>ASP</td>\n",
       "      <td>2010-02-08</td>\n",
       "      <td>11.87</td>\n",
       "      <td>12.13</td>\n",
       "      <td>11.82</td>\n",
       "      <td>11.89</td>\n",
       "      <td>18900</td>\n",
       "      <td>11.89</td>\n",
       "    </tr>\n",
       "    <tr>\n",
       "      <th>2</th>\n",
       "      <td>NYSE</td>\n",
       "      <td>AIT</td>\n",
       "      <td>2010-02-08</td>\n",
       "      <td>21.81</td>\n",
       "      <td>21.81</td>\n",
       "      <td>21.28</td>\n",
       "      <td>21.31</td>\n",
       "      <td>103800</td>\n",
       "      <td>21.31</td>\n",
       "    </tr>\n",
       "    <tr>\n",
       "      <th>3</th>\n",
       "      <td>NYSE</td>\n",
       "      <td>ATV</td>\n",
       "      <td>2010-02-08</td>\n",
       "      <td>5.91</td>\n",
       "      <td>6.07</td>\n",
       "      <td>5.81</td>\n",
       "      <td>5.81</td>\n",
       "      <td>114400</td>\n",
       "      <td>5.81</td>\n",
       "    </tr>\n",
       "    <tr>\n",
       "      <th>4</th>\n",
       "      <td>NYSE</td>\n",
       "      <td>ACM</td>\n",
       "      <td>2010-02-08</td>\n",
       "      <td>25.54</td>\n",
       "      <td>26.05</td>\n",
       "      <td>25.35</td>\n",
       "      <td>25.80</td>\n",
       "      <td>1012600</td>\n",
       "      <td>25.80</td>\n",
       "    </tr>\n",
       "  </tbody>\n",
       "</table>\n",
       "</div>"
      ],
      "text/plain": [
       "  exchange stock_symbol       date  stock_price_open  stock_price_high  \\\n",
       "0     NYSE          AEA 2010-02-08              4.42              4.42   \n",
       "1     NYSE          ASP 2010-02-08             11.87             12.13   \n",
       "2     NYSE          AIT 2010-02-08             21.81             21.81   \n",
       "3     NYSE          ATV 2010-02-08              5.91              6.07   \n",
       "4     NYSE          ACM 2010-02-08             25.54             26.05   \n",
       "\n",
       "   stock_price_low  stock_price_close  stock_volume  stock_price_adj_close  \n",
       "0             4.21               4.24        205500                   4.24  \n",
       "1            11.82              11.89         18900                  11.89  \n",
       "2            21.28              21.31        103800                  21.31  \n",
       "3             5.81               5.81        114400                   5.81  \n",
       "4            25.35              25.80       1012600                  25.80  "
      ]
     },
     "execution_count": 1,
     "metadata": {},
     "output_type": "execute_result"
    }
   ],
   "source": [
    "from IPython.core.interactiveshell import InteractiveShell\n",
    "InteractiveShell.ast_node_interactivity = \"all\"\n",
    "\n",
    "import pandas as pd\n",
    "df = pd.read_csv('NYSE_daily_prices_A.csv',parse_dates=['date'])\n",
    "df.head(5)"
   ]
  },
  {
   "cell_type": "code",
   "execution_count": 56,
   "metadata": {},
   "outputs": [
    {
     "data": {
      "text/plain": [
       "count    21.000000\n",
       "mean      3.160952\n",
       "std       0.781799\n",
       "min       1.750000\n",
       "25%       2.280000\n",
       "50%       3.500000\n",
       "75%       3.860000\n",
       "max       4.100000\n",
       "Name: stock_price_close, dtype: float64"
      ]
     },
     "execution_count": 56,
     "metadata": {},
     "output_type": "execute_result"
    },
    {
     "data": {
      "text/plain": [
       "3.1609523809523816"
      ]
     },
     "execution_count": 56,
     "metadata": {},
     "output_type": "execute_result"
    }
   ],
   "source": [
    "# you want avg stock_price_close for AEA in month march 2010\n",
    "df1 =  df[(df['date'].dt.year == 2009) & (df['date'].dt.month == 4) & (df['stock_symbol'] == 'AEA')]\n",
    "df1['stock_price_close'].describe()\n",
    "\n",
    "df1['stock_price_close'].mean()"
   ]
  },
  {
   "cell_type": "code",
   "execution_count": 58,
   "metadata": {},
   "outputs": [
    {
     "data": {
      "text/plain": [
       "<matplotlib.axes._subplots.AxesSubplot at 0x24026ee550>"
      ]
     },
     "execution_count": 58,
     "metadata": {},
     "output_type": "execute_result"
    },
    {
     "data": {
      "image/png": "[encoded data removed]",
      "text/plain": [
       "<matplotlib.figure.Figure at 0x2402188fd0>"
      ]
     },
     "metadata": {},
     "output_type": "display_data"
    }
   ],
   "source": [
    "%matplotlib inline\n",
    "df['stock_price_close'].plot()"
   ]
  },
  {
   "cell_type": "code",
   "execution_count": null,
   "metadata": {},
   "outputs": [],
   "source": []
  },
  {
   "cell_type": "code",
   "execution_count": null,
   "metadata": {},
   "outputs": [],
   "source": []
  }
 ],
 "metadata": {
  "kernelspec": {
   "display_name": "env-tensorflow",
   "language": "python",
   "name": "env-tensorflow"
  },
  "language_info": {
   "codemirror_mode": {
    "name": "ipython",
    "version": 3
   },
   "file_extension": ".py",
   "mimetype": "text/x-python",
   "name": "python",
   "nbconvert_exporter": "python",
   "pygments_lexer": "ipython3",
   "version": "3.6.4"
  }
 },
 "nbformat": 4,
 "nbformat_minor": 2
}
